{
 "cells": [
  {
   "cell_type": "code",
   "execution_count": 2,
   "metadata": {},
   "outputs": [],
   "source": [
    "##################################################################\n",
    "# # ! Juno Magnetic Modelling using <Vector Potential> with <3 NNs>\n",
    "# Table & Plot showing the RMS errors of `PINN Models` \n",
    "# computed at different subset of ***Juno Observation Orbits***\n",
    "##################################################################\n",
    "# %%\n",
    "# # ! Setup\n",
    "import numpy as np;\n",
    "from LW_DataReadWrite import *;"
   ]
  },
  {
   "cell_type": "code",
   "execution_count": 3,
   "metadata": {},
   "outputs": [
    {
     "name": "stdout",
     "output_type": "stream",
     "text": [
      "\n",
      "*********************\n",
      "\n",
      "RMS of PINN33e evaluated at multiple different Juno <OBS> dataset:\n",
      " CnyObs33, rms =      512.7 nT; \n",
      " OurObs33, rms =      511.4 nT; \n",
      " RawObs33, rms =      519.5 nT; \n",
      " OurObs50, rms =     1051.8 nT; \n",
      "\n",
      "\n",
      "*********************\n",
      "\n",
      "RMS of PINN50e evaluated at multiple different Juno <OBS> dataset:\n",
      " CnyObs33, rms =      592.2 nT; \n",
      " OurObs33, rms =      589.7 nT; \n",
      " RawObs33, rms =      606.9 nT; \n",
      " OurObs50, rms =      641.0 nT; \n",
      "\n"
     ]
    }
   ],
   "source": [
    "# # ! PINN Model Estimations of [Bx,By,Bz] at <Multiple Different Obs Dataset>\n",
    "# TODO ******************** Parameters ******************** #\n",
    "cstRj=71492;        # Jupiter radius in km\n",
    "GS2nT=1e5;          # Gauss to nt\n",
    "# TODO ********************** end ************************* #\n",
    "FILEOBSs = ['input/Connerney_PJ01_33_4.0Rj.txt',      # <Connerney Obs dataset PJ01-33>\n",
    "            'input/Juno_PJ01_33_4.0Rj.txt',           # <Our Obs dataset PJ01-33>\n",
    "            'input/RawJuno_PJ01_33_4.0Rj.txt',        # <Raw Juno Obs dataset PJ01-33>\n",
    "            'input/Juno_PJ01_50_4.0Rj.txt'];          # <Our Obs dataset PJ01-50>  \n",
    "OBSNAMEs = ['CnyObs33',\n",
    "            'OurObs33',\n",
    "            'RawObs33',\n",
    "            'OurObs50'];\n",
    "PINNFILEs = [['output/JUNO_PINN_VP3_PJ01_33_4.0Rj_NN06_040_swish_Adam_DW1_RADk1c0n3000d600_nEpo0012000_BS0010000_Seed12345_EstBxyz_ConnerneyOBS33.txt',\\\n",
    "             'output/JUNO_PINN_VP3_PJ01_33_4.0Rj_NN06_040_swish_Adam_DW1_RADk1c0n3000d600_nEpo0012000_BS0010000_Seed12345_EstBxyz_OurOBS33.txt',\\\n",
    "             'output/JUNO_PINN_VP3_PJ01_33_4.0Rj_NN06_040_swish_Adam_DW1_RADk1c0n3000d600_nEpo0012000_BS0010000_Seed12345_EstBxyz_RawOBS33.txt',\\\n",
    "             'output/JUNO_PINN_VP3_PJ01_33_4.0Rj_NN06_040_swish_Adam_DW1_RADk1c0n3000d600_nEpo0012000_BS0010000_Seed12345_EstBxyz_OurOBS50.txt'],\\\n",
    "             ['output/JUNO_PINN_VP3_PJ01_50_4.0Rj_NN06_040_swish_Adam_DW1_RADk1c0n3000d600_nEpo0012000_BS0010000_Seed12345_EstBxyz_ConnerneyOBS33.txt',\\\n",
    "             'output/JUNO_PINN_VP3_PJ01_50_4.0Rj_NN06_040_swish_Adam_DW1_RADk1c0n3000d600_nEpo0012000_BS0010000_Seed12345_EstBxyz_OurOBS33.txt',\\\n",
    "             'output/JUNO_PINN_VP3_PJ01_50_4.0Rj_NN06_040_swish_Adam_DW1_RADk1c0n3000d600_nEpo0012000_BS0010000_Seed12345_EstBxyz_RawOBS33.txt',\\\n",
    "             'output/JUNO_PINN_VP3_PJ01_50_4.0Rj_NN06_040_swish_Adam_DW1_RADk1c0n3000d600_nEpo0012000_BS0010000_Seed12345_EstBxyz_OurOBS50.txt']];\n",
    "PINNNAMEs = ['PINN33e','PINN50e'];\n",
    "# TODO ********************** end ************************* #\n",
    "for iPINN in range(len(PINNFILEs)):\n",
    "     pinnName = PINNNAMEs[iPINN];\n",
    "     print('\\n*********************\\n',flush=True);\n",
    "     print('RMS of %s evaluated at multiple different Juno <OBS> dataset:'%(pinnName),flush=True);\n",
    "     for iFILEOBS in range(len(FILEOBSs)):\n",
    "          fileEst = PINNFILEs[iPINN][iFILEOBS];\n",
    "          dataEst=np.loadtxt(fileEst,skiprows=1);\n",
    "          estBx=dataEst[:,6:7]; estBy=dataEst[:,7:8]; estBz=dataEst[:,8:9];\n",
    "          estBNorm=np.sqrt(estBx**2+estBy**2+estBz**2);\n",
    "          fileObs = FILEOBSs[iFILEOBS];\n",
    "          nObs,PJ,Year,DD,xObs,yObs,zObs,bxObs,byObs,bzObs = LoadObsFile(fileObs,showinfo=False);\n",
    "          refBNorm = np.sqrt(bxObs**2+byObs**2+bzObs**2);\n",
    "          print('%9s, '%(OBSNAMEs[iFILEOBS]),end='',flush=True);\n",
    "          rms = np.sqrt(np.mean((estBNorm-refBNorm)**2));\n",
    "          print('rms = %10.1f nT; '%(GS2nT*rms),flush=True);\n",
    "     print('',flush=True); # <br>"
   ]
  }
 ],
 "metadata": {
  "kernelspec": {
   "display_name": "PINN",
   "language": "python",
   "name": "python3"
  },
  "language_info": {
   "codemirror_mode": {
    "name": "ipython",
    "version": 3
   },
   "file_extension": ".py",
   "mimetype": "text/x-python",
   "name": "python",
   "nbconvert_exporter": "python",
   "pygments_lexer": "ipython3",
   "version": "3.10.9"
  }
 },
 "nbformat": 4,
 "nbformat_minor": 2
}

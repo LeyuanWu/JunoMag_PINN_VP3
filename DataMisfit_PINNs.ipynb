{
 "cells": [
  {
   "cell_type": "code",
   "execution_count": 1,
   "metadata": {},
   "outputs": [],
   "source": [
    "##################################################################\n",
    "# # ! Juno Magnetic Modelling using <Vector Potential> with <3 NNs>\n",
    "# Table showing the RMS errors of `PINN Models` \n",
    "# computed at different subset of ***Juno Observation Orbits***\n",
    "##################################################################\n",
    "# %%\n",
    "# # ! Setup\n",
    "import numpy as np;\n",
    "from LW_DataReadWrite import *;"
   ]
  },
  {
   "cell_type": "code",
   "execution_count": 2,
   "metadata": {},
   "outputs": [
    {
     "name": "stdout",
     "output_type": "stream",
     "text": [
      "\n",
      "*********************\n",
      "\n",
      "RMS of \u001b[41m NN06_040_PINN33e \u001b[0m evaluated at multiple different Juno <OBS> dataset:\n",
      " OurObs33, rms =      519.7 nT; \n",
      " OurObs50, rms =     1029.9 nT; \n",
      "\n",
      "\n",
      "*********************\n",
      "\n",
      "RMS of \u001b[41m NN06_040_PINN50e \u001b[0m evaluated at multiple different Juno <OBS> dataset:\n",
      " OurObs33, rms =      599.2 nT; \n",
      " OurObs50, rms =      658.7 nT; \n",
      "\n"
     ]
    }
   ],
   "source": [
    "# %%\n",
    "\n",
    "# # ! PINN Model Estimations of [Bx,By,Bz] at <Multiple Different Obs Dataset>\n",
    "# TODO ******************** Parameters ******************** #\n",
    "GS2nT = 1e5;          # Gauss to nt\n",
    "# TODO ********************** end ************************* #\n",
    "######## Test Juno OBS dataset\n",
    "FILEOBSs = ['input/Juno_PJ01_33_4.0Rj.txt',           # <Our Obs dataset PJ01-33>\n",
    "            'input/Juno_PJ01_50_4.0Rj.txt'];          # <Our Obs dataset PJ01-50>  \n",
    "OBSNAMEs = ['OurObs33',\n",
    "            'OurObs50'];\n",
    "######## PINNs models\n",
    "PINNFILEs = [[\n",
    "              'output/JUNO_PINN_VP3_PJ01_33_4.0Rj_NN06_040_swish_Adam_DW1_RADk1c0n3000d600_nEpo0012000_BS0010000_Seed12345_EstBxyz_OurOBS33.txt',\n",
    "              'output/JUNO_PINN_VP3_PJ01_33_4.0Rj_NN06_040_swish_Adam_DW1_RADk1c0n3000d600_nEpo0012000_BS0010000_Seed12345_EstBxyz_OurOBS50.txt'\n",
    "             ],\n",
    "             [\n",
    "              'output/JUNO_PINN_VP3_PJ01_50_4.0Rj_NN06_040_swish_Adam_DW1_RADk1c0n3000d600_nEpo0012000_BS0010000_Seed12345_EstBxyz_OurOBS33.txt',\n",
    "              'output/JUNO_PINN_VP3_PJ01_50_4.0Rj_NN06_040_swish_Adam_DW1_RADk1c0n3000d600_nEpo0012000_BS0010000_Seed12345_EstBxyz_OurOBS50.txt'\n",
    "             ]];\n",
    "PINNNAMEs = ['NN06_040_PINN33e',\n",
    "             'NN06_040_PINN50e'];\n",
    "# TODO ********************** end ************************* #\n",
    "for iPINN in range(len(PINNFILEs)):\n",
    "     pinnName = PINNNAMEs[iPINN];\n",
    "     print('\\n*********************\\n',flush=True);\n",
    "     print('RMS of \\033[41m %s \\033[0m evaluated at multiple different Juno <OBS> dataset:'%(pinnName),flush=True);\n",
    "     for iFILEOBS in range(len(FILEOBSs)):\n",
    "          fileObs = FILEOBSs[iFILEOBS];\n",
    "          nObs,PJ,Year,DD,xObs,yObs,zObs,BxObs,ByObs,BzObs = LoadObsFile(fileObs,showinfo=False);\n",
    "          refBNorm = np.sqrt(BxObs**2+ByObs**2+BzObs**2);\n",
    "          fileEst = PINNFILEs[iPINN][iFILEOBS];\n",
    "          dataEst=np.loadtxt(fileEst,skiprows=1);\n",
    "          estBx=dataEst[:,6:7]; estBy=dataEst[:,7:8]; estBz=dataEst[:,8:9];\n",
    "          estBNorm=np.sqrt(estBx**2+estBy**2+estBz**2);\n",
    "          err_dB = estBNorm - refBNorm;   # Delta |B|\n",
    "          err_DB = np.sqrt((estBx-BxObs)**2+(estBy-ByObs)**2+(estBz-BzObs)**2);   # |Delta B|\n",
    "          err_dBxyz = np.concatenate((estBx-BxObs,estBy-ByObs,estBz-BzObs), axis=0);\n",
    "          print('%9s, '%(OBSNAMEs[iFILEOBS]),end='',flush=True);\n",
    "          # rms = np.sqrt(np.mean(err_dB**2));\n",
    "          # rms = np.sqrt(np.mean(err_DB**2));\n",
    "          rms = np.sqrt(np.mean(err_dBxyz**2));\n",
    "          print('rms = %10.1f nT; '%(GS2nT*rms),flush=True);\n",
    "     print('',flush=True); # <br>"
   ]
  }
 ],
 "metadata": {
  "kernelspec": {
   "display_name": "SHTools_env",
   "language": "python",
   "name": "python3"
  },
  "language_info": {
   "codemirror_mode": {
    "name": "ipython",
    "version": 3
   },
   "file_extension": ".py",
   "mimetype": "text/x-python",
   "name": "python",
   "nbconvert_exporter": "python",
   "pygments_lexer": "ipython3",
   "version": "3.10.0"
  }
 },
 "nbformat": 4,
 "nbformat_minor": 2
}
